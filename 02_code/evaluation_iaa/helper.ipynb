{
 "cells": [
  {
   "cell_type": "markdown",
   "id": "2b92a0a2",
   "metadata": {},
   "source": [
    "### Get IDS"
   ]
  },
  {
   "cell_type": "code",
   "execution_count": null,
   "id": "16854bcd",
   "metadata": {},
   "outputs": [
    {
     "name": "stdout",
     "output_type": "stream",
     "text": [
      "Loaded 100 IDs to match.\n",
      "{'306', '1763', '1619', '1641', '1493', '629', '250', '1646', '1385', '579', '1604', '1281', '1307', '490', '1228', '1446', '722', '1055', '1176', '1340', '2130', '2151', '1554', '609', '438', '1314', '613', '637', '1113', '59', '1983', '1283', '781', '932', '168', '72', '1848', '2014', '680', '416', '1809', '1706', '147', '174', '367', '184', '236', '436', '966', '1779', '780', '1100', '91', '1420', '300', '583', '939', '1247', '679', '162', '1268', '31', '879', '2090', '1358', '124', '601', '2036', '1068', '1926', '1471', '544', '1605', '1933', '209', '1788', '461', '654', '575', '1897', '1505', '809', '1121', '2101', '1164', '1177', '1474', '651', '1448', '453', '1351', '1883', '167', '1596', '1112', '596', '1864', '1932', '222', '1163'}\n",
      "✅ Done! Found 100 matches. Saved to ../../11_annotations/gt_comparison/experts_100_comparison_acsa.jsonl\n"
     ]
    }
   ],
   "source": [
    "import json\n",
    "\n",
    "# Input/output files\n",
    "ids_file = \"../../11_annotations/gt_comparison/gt_100_comparison.jsonl\"        \n",
    "data_file = \"../../11_annotations/experts/acsa_experts_trainset_low.jsonl\"      \n",
    "output_file = \"../../11_annotations/gt_comparison/experts_100_comparison_acsa.jsonl\" \n",
    "\n",
    "# Step 1: Load all original_ids from ids_file\n",
    "ids = set()\n",
    "with open(ids_file, \"r\", encoding=\"utf-8\") as f:\n",
    "    for line in f:\n",
    "        obj = json.loads(line)\n",
    "        if \"original_id\" in obj:\n",
    "            ids.add(obj[\"original_id\"])\n",
    "\n",
    "print(f\"Loaded {len(ids)} IDs to match.\")\n",
    "print(ids)\n",
    "# Step 2: Filter data_file for matches\n",
    "with open(data_file, \"r\", encoding=\"utf-8\") as infile, open(output_file, \"w\", encoding=\"utf-8\") as outfile:\n",
    "    match_count = 0\n",
    "    for line in infile:\n",
    "        entry = json.loads(line)\n",
    "        # print(entry.get(\"original_id\"))\n",
    "        if entry.get(\"original_id\") in ids:\n",
    "            outfile.write(json.dumps(entry, ensure_ascii=False) + \"\\n\")\n",
    "            match_count += 1\n",
    "\n",
    "print(f\"✅ Done! Found {match_count} matches. Saved to {output_file}\")\n"
   ]
  },
  {
   "cell_type": "markdown",
   "id": "3719a47b",
   "metadata": {},
   "source": [
    "## Remove Phrase for ACSA"
   ]
  },
  {
   "cell_type": "code",
   "execution_count": null,
   "id": "69b72b30",
   "metadata": {},
   "outputs": [],
   "source": [
    "import json\n",
    "\n",
    "input_path = \"gt_comparison_tasd/74226.jsonl\"\n",
    "output_path = \"gt_comparison_acsa/74226.jsonl\"\n",
    "\n",
    "with open(input_path, \"r\", encoding=\"utf-8\") as infile, \\\n",
    "     open(output_path, \"w\", encoding=\"utf-8\") as outfile:\n",
    "    \n",
    "    for line in infile:\n",
    "        record = json.loads(line)\n",
    "        \n",
    "        # Truncate labels to max length 2\n",
    "        new_labels = []\n",
    "        for label in record[\"labels\"]:\n",
    "            if len(label) > 2:\n",
    "                new_labels.append(label[:2])\n",
    "            else:\n",
    "                new_labels.append(label)\n",
    "        \n",
    "        # Remove duplicates in the same line\n",
    "        unique_labels = []\n",
    "        seen = set()\n",
    "        for label in new_labels:\n",
    "            tup = tuple(label)  # convert list to tuple to make it hashable\n",
    "            if tup not in seen:\n",
    "                seen.add(tup)\n",
    "                unique_labels.append(label)\n",
    "        \n",
    "        record[\"labels\"] = unique_labels\n",
    "        outfile.write(json.dumps(record, ensure_ascii=False) + \"\\n\")\n"
   ]
  }
 ],
 "metadata": {
  "kernelspec": {
   "display_name": "Python 3",
   "language": "python",
   "name": "python3"
  },
  "language_info": {
   "codemirror_mode": {
    "name": "ipython",
    "version": 3
   },
   "file_extension": ".py",
   "mimetype": "text/x-python",
   "name": "python",
   "nbconvert_exporter": "python",
   "pygments_lexer": "ipython3",
   "version": "3.12.1"
  }
 },
 "nbformat": 4,
 "nbformat_minor": 5
}

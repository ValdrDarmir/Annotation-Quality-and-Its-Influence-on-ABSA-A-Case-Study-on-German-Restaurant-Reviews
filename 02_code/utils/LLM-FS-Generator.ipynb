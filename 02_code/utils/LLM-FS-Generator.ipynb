{
 "cells": [
  {
   "cell_type": "markdown",
   "id": "8efe7933",
   "metadata": {},
   "source": [
    "### Generate 50 Shot examples"
   ]
  },
  {
   "cell_type": "code",
   "execution_count": 2,
   "id": "1ac7a663",
   "metadata": {},
   "outputs": [
    {
     "name": "stdout",
     "output_type": "stream",
     "text": [
      "Saved 50 random examples to few_shot_examples/acsa_crowd_50_shots.jsonl\n"
     ]
    }
   ],
   "source": [
    "import json\n",
    "import random\n",
    "\n",
    "# Paths\n",
    "def main(seed, sample_size, input_file, output_file):\n",
    "    \"\"\"\n",
    "    Randomly sample a specified number of examples from a JSONL file and save them to another JSONL file.\n",
    "    \n",
    "    Args:\n",
    "        seed (int): Random seed for reproducibility\n",
    "        sample_size (int): Number of examples to sample\n",
    "        input_file (str): Path to the input JSONL file\n",
    "        output_file (str): Path to the output JSONL file\n",
    "    \"\"\"\n",
    "    random.seed(seed)\n",
    "    # Load JSON\n",
    "    with open(input_file, \"r\", encoding=\"utf-8\") as f:\n",
    "        data = [json.loads(line) for line in f]\n",
    "\n",
    "    # Check sample size\n",
    "    if sample_size > len(data):\n",
    "        raise ValueError(f\"Sample size {sample_size} is greater than dataset size {len(data)}.\")\n",
    "\n",
    "    # Random sample\n",
    "    sampled_data = random.sample(data, sample_size)\n",
    "\n",
    "    # Save back to JSONL\n",
    "    with open(output_file, \"w\", encoding=\"utf-8\") as f:\n",
    "        for item in sampled_data:\n",
    "            f.write(json.dumps(item, ensure_ascii=False) + \"\\n\")\n",
    "\n",
    "    print(f\"Saved {sample_size} random examples to {output_file}\")\n",
    "\n",
    "\n",
    "input_file = \"../../11_annotations/crowd/acsa/trainset_crowd_acsa_noconflict.jsonl\"\n",
    "output_file=\"few_shot_examples/acsa_crowd_50_shots.jsonl\"\n",
    "task = \"tasd\"  \n",
    "sample_size = 50\n",
    "seed = 42\n",
    "main(seed, sample_size, input_file, output_file)"
   ]
  }
 ],
 "metadata": {
  "kernelspec": {
   "display_name": "Python 3",
   "language": "python",
   "name": "python3"
  },
  "language_info": {
   "codemirror_mode": {
    "name": "ipython",
    "version": 3
   },
   "file_extension": ".py",
   "mimetype": "text/x-python",
   "name": "python",
   "nbconvert_exporter": "python",
   "pygments_lexer": "ipython3",
   "version": "3.12.1"
  }
 },
 "nbformat": 4,
 "nbformat_minor": 5
}

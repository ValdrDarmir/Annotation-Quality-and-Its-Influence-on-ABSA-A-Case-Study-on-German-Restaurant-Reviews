{
 "cells": [
  {
   "cell_type": "code",
   "execution_count": 3,
   "id": "f37ed12a",
   "metadata": {},
   "outputs": [],
   "source": [
    "import json\n",
    "import csv\n",
    "import os"
   ]
  },
  {
   "cell_type": "code",
   "execution_count": null,
   "id": "ab3337ce",
   "metadata": {},
   "outputs": [
    {
     "name": "stdout",
     "output_type": "stream",
     "text": [
      "✅ Saved CSV to: ../04_data/datasets/gerestaurant/train_text_only.csv\n",
      "✅ Saved CSV to: ../04_data/datasets/gerestaurant/test_text_only.csv\n"
     ]
    }
   ],
   "source": [
    "def load_json_lines(filepath):\n",
    "    \"\"\"Load JSONL or newline-separated JSON objects from a file.\"\"\"\n",
    "    data = []\n",
    "    with open(filepath, 'r', encoding='utf-8') as f:\n",
    "        for line in f:\n",
    "            line = line.strip()\n",
    "            if line:\n",
    "                data.append(json.loads(line))\n",
    "    return data\n",
    "\n",
    "def extract_id_and_text(data):\n",
    "    \"\"\"Extract only the 'id' and 'text' from each entry.\"\"\"\n",
    "    return [{'id': item['id'], 'text': item['text']} for item in data]\n",
    "\n",
    "def write_to_csv(data, output_path):\n",
    "    \"\"\"Write list of dicts to CSV with UTF-8 encoding (for German chars).\"\"\"\n",
    "    with open(output_path, 'w', newline='', encoding='utf-8') as csvfile:\n",
    "        writer = csv.DictWriter(csvfile, fieldnames=['id', 'text'])\n",
    "        writer.writeheader()\n",
    "        writer.writerows(data)\n",
    "\n",
    "def json_to_csv(input_path, output_path):\n",
    "    data = load_json_lines(input_path)\n",
    "    reduced_data = extract_id_and_text(data)\n",
    "    write_to_csv(reduced_data, output_path)\n",
    "    print(f\"✅ Saved CSV to: {output_path}\")\n",
    "\n",
    "# Example usage:\n",
    "# Assumes files are in the 'data' folder and saves CSVs in the same folder\n",
    "os.makedirs('../../04_data/datasets/gerestaurant/', exist_ok=True)\n",
    "json_to_csv('../../04_data/datasets/gerestaurant/train.json', '../../04_data/datasets/gerestaurant/train_text_only.csv')\n",
    "json_to_csv('../../04_data/datasets/gerestaurant/test.json', '../../04_data/datasets/gerestaurant/test_text_only.csv')"
   ]
  }
 ],
 "metadata": {
  "kernelspec": {
   "display_name": "Python 3",
   "language": "python",
   "name": "python3"
  },
  "language_info": {
   "codemirror_mode": {
    "name": "ipython",
    "version": 3
   },
   "file_extension": ".py",
   "mimetype": "text/x-python",
   "name": "python",
   "nbconvert_exporter": "python",
   "pygments_lexer": "ipython3",
   "version": "3.12.1"
  }
 },
 "nbformat": 4,
 "nbformat_minor": 5
}

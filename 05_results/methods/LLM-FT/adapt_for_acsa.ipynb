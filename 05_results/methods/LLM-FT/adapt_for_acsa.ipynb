{
 "cells": [
  {
   "cell_type": "markdown",
   "id": "7cbd7014",
   "metadata": {},
   "source": [
    "### Get the predictions into the jsonl format"
   ]
  },
  {
   "cell_type": "code",
   "execution_count": 7,
   "id": "5d17a4d9",
   "metadata": {},
   "outputs": [],
   "source": [
    "import json\n",
    "\n",
    "# Load the test set\n",
    "with open('../../../11_annotations/ground_truth/acsa_testset_low.jsonl', 'r', encoding='utf-8') as f:\n",
    "    test_data = [json.loads(line) for line in f]\n",
    "name = \"acsa_students-acsaRedo_test_orig-o_0.0002_16_5_25\"\n",
    "# Load predictions\n",
    "with open(f'Students/{name}/predictions.json', 'r', encoding='utf-8') as f:\n",
    "    pred_data = json.load(f)['test']\n",
    "\n",
    "# Check that lengths match\n",
    "if len(test_data) != len(pred_data):\n",
    "    raise ValueError(\"Test set and predictions length do not match!\")\n",
    "\n",
    "# Create final JSONL file\n",
    "with open(f'{name}.jsonl', 'w', encoding='utf-8') as f:\n",
    "    for test_item, pred_item in zip(test_data, pred_data):\n",
    "        # Extract labels from predictions, removing quotes\n",
    "        new_labels = [list(map(lambda s: s.strip(\"'\"), pair)) for pair in pred_item['predictions']['predictions']]\n",
    "        # Update test item labels\n",
    "        test_item['labels'] = new_labels\n",
    "        # Write JSONL line\n",
    "        f.write(json.dumps(test_item, ensure_ascii=False) + '\\n')\n"
   ]
  }
 ],
 "metadata": {
  "kernelspec": {
   "display_name": "Python 3",
   "language": "python",
   "name": "python3"
  },
  "language_info": {
   "codemirror_mode": {
    "name": "ipython",
    "version": 3
   },
   "file_extension": ".py",
   "mimetype": "text/x-python",
   "name": "python",
   "nbconvert_exporter": "python",
   "pygments_lexer": "ipython3",
   "version": "3.12.1"
  }
 },
 "nbformat": 4,
 "nbformat_minor": 5
}
